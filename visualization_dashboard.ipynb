{
 "cells": [
  {
   "cell_type": "code",
   "execution_count": 4,
   "id": "ffc2d949",
   "metadata": {
    "scrolled": true
   },
   "outputs": [
    {
     "name": "stderr",
     "output_type": "stream",
     "text": [
      "2023-11-05 21:25:09.876 \n",
      "  \u001b[33m\u001b[1mWarning:\u001b[0m to view this Streamlit app on a browser, run it with the following\n",
      "  command:\n",
      "\n",
      "    streamlit run C:\\Users\\samih\\anaconda3\\Lib\\site-packages\\ipykernel_launcher.py [ARGUMENTS]\n"
     ]
    }
   ],
   "source": [
    "from geopy.distance import geodesic\n",
    "\n",
    "import streamlit as st\n",
    "import pandas as pd\n",
    "import matplotlib.pyplot as plt\n",
    "import networkx as nx\n",
    "from geopy.distance import geodesic  # Add this line\n",
    "\n",
    "# Load route data\n",
    "route_data = pd.read_csv('route_data.csv')\n",
    "\n",
    "# Sidebar\n",
    "st.sidebar.title(\"Navigation\")\n",
    "page = st.sidebar.radio(\"Go to\", [\"Home\", \"Optimized Route\"])\n",
    "\n",
    "# Home Page\n",
    "if page == \"Home\":\n",
    "    st.title(\"Supply Chain Optimization Dashboard\")\n",
    "    st.write(\"Welcome to the Supply Chain Optimization Dashboard. Select a page from the sidebar to explore.\")\n",
    "\n",
    "# Optimized Route Page\n",
    "elif page == \"Optimized Route\":\n",
    "    st.title(\"Optimized Route Visualization\")\n",
    "    \n",
    "    # Create a graph from the data\n",
    "    G = nx.Graph()\n",
    "\n",
    "    # Add nodes to the graph\n",
    "    for index, row in route_data.iterrows():\n",
    "        G.add_node(row['location_id'], pos=(row['latitude'], row['longitude']))\n",
    "\n",
    "    # Add edges with distances as attributes\n",
    "    for i in range(len(route_data)):\n",
    "        for j in range(i + 1, len(route_data)):\n",
    "            loc1 = route_data.iloc[i]\n",
    "            loc2 = route_data.iloc[j]\n",
    "            distance = geodesic((loc1['latitude'], loc1['longitude']), (loc2['latitude'], loc2['longitude'])).miles\n",
    "            G.add_edge(loc1['location_id'], loc2['location_id'], distance=distance)\n",
    "\n",
    "    # Plot the optimized route\n",
    "    pos = nx.get_node_attributes(G, 'pos')\n",
    "    nx.draw(G, pos, with_labels=True, font_weight='bold', node_size=700, node_color='skyblue', font_color='black', font_size=8)\n",
    "    st.pyplot(plt)\n",
    "\n",
    "# Run the Streamlit app\n"
   ]
  },
  {
   "cell_type": "code",
   "execution_count": null,
   "id": "8bc6b126",
   "metadata": {},
   "outputs": [],
   "source": []
  }
 ],
 "metadata": {
  "kernelspec": {
   "display_name": "Python 3 (ipykernel)",
   "language": "python",
   "name": "python3"
  },
  "language_info": {
   "codemirror_mode": {
    "name": "ipython",
    "version": 3
   },
   "file_extension": ".py",
   "mimetype": "text/x-python",
   "name": "python",
   "nbconvert_exporter": "python",
   "pygments_lexer": "ipython3",
   "version": "3.11.5"
  }
 },
 "nbformat": 4,
 "nbformat_minor": 5
}
