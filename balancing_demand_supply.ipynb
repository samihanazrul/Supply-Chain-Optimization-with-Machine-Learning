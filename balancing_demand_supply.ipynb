{
 "cells": [
  {
   "cell_type": "code",
   "execution_count": 5,
   "id": "24e2c3e6",
   "metadata": {
    "tags": []
   },
   "outputs": [],
   "source": [
    "#import necessary libraries\n",
    "import pandas as pd"
   ]
  },
  {
   "cell_type": "code",
   "execution_count": 6,
   "id": "d75af1eb-84e1-48b7-98cb-39806d477292",
   "metadata": {
    "tags": []
   },
   "outputs": [],
   "source": [
    "# Load demand and supply data\n",
    "data = pd.read_csv('demand_supply_data.csv')\n"
   ]
  },
  {
   "cell_type": "code",
   "execution_count": 7,
   "id": "1c279c58-a794-4184-9c2d-dd521b10e77e",
   "metadata": {
    "tags": []
   },
   "outputs": [],
   "source": [
    "# Calculate shortfall or excess\n",
    "data['Shortfall_Excess'] = data['Demand'] - data['Supply']\n"
   ]
  },
  {
   "cell_type": "code",
   "execution_count": 8,
   "id": "440f479e-eac0-4a96-91db-c20e7744b0a5",
   "metadata": {
    "tags": []
   },
   "outputs": [],
   "source": [
    "# Suggest actions to balance demand and supply\n",
    "data['Action'] = 'No Action'\n",
    "data.loc[data['Shortfall_Excess'] > 0, 'Action'] = 'Increase Supply'\n",
    "data.loc[data['Shortfall_Excess'] < 0, 'Action'] = 'Reduce Supply'\n"
   ]
  },
  {
   "cell_type": "code",
   "execution_count": 9,
   "id": "8f4222e6-c9c2-4152-ad44-7d0ddc68bd5b",
   "metadata": {
    "tags": []
   },
   "outputs": [
    {
     "name": "stdout",
     "output_type": "stream",
     "text": [
      "Optimized Demand and Supply:\n",
      "      Product  Demand  Supply  Shortfall_Excess           Action\n",
      "0   Product_A     100      80                20  Increase Supply\n",
      "1   Product_B     150     120                30  Increase Supply\n",
      "2   Product_C     200     180                20  Increase Supply\n",
      "3   Product_D     120     150               -30    Reduce Supply\n",
      "4   Product_E     180     160                20  Increase Supply\n",
      "5   Product_F     250     220                30  Increase Supply\n",
      "6   Product_G     130     110                20  Increase Supply\n",
      "7   Product_H     190     170                20  Increase Supply\n",
      "8   Product_I     140     130                10  Increase Supply\n",
      "9   Product_J     210     200                10  Increase Supply\n",
      "10  Product_K     180     160                20  Increase Supply\n",
      "11  Product_L     150     140                10  Increase Supply\n",
      "12  Product_M     220     200                20  Increase Supply\n",
      "13  Product_N     120     100                20  Increase Supply\n",
      "14  Product_O     160     150                10  Increase Supply\n",
      "15  Product_P     200     180                20  Increase Supply\n",
      "16  Product_Q     250     240                10  Increase Supply\n",
      "17  Product_R     170     160                10  Increase Supply\n",
      "18  Product_S     190     180                10  Increase Supply\n",
      "19  Product_T     210     200                10  Increase Supply\n"
     ]
    }
   ],
   "source": [
    "# Display the optimized data\n",
    "print(\"Optimized Demand and Supply:\")\n",
    "print(data)\n"
   ]
  }
 ],
 "metadata": {
  "kernelspec": {
   "display_name": "Python 3 (ipykernel)",
   "language": "python",
   "name": "python3"
  },
  "language_info": {
   "codemirror_mode": {
    "name": "ipython",
    "version": 3
   },
   "file_extension": ".py",
   "mimetype": "text/x-python",
   "name": "python",
   "nbconvert_exporter": "python",
   "pygments_lexer": "ipython3",
   "version": "3.11.5"
  }
 },
 "nbformat": 4,
 "nbformat_minor": 5
}
