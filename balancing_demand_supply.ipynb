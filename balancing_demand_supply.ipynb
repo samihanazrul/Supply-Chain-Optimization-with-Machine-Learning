{
 "cells": [
  {
   "cell_type": "code",
   "execution_count": 1,
   "id": "7d03fa46",
   "metadata": {},
   "outputs": [
    {
     "name": "stdout",
     "output_type": "stream",
     "text": [
      "Optimized Demand and Supply:\n",
      "      Product  Demand  Supply  Shortfall_Excess           Action\n",
      "0   Product_A     100      80                20  Increase Supply\n",
      "1   Product_B     150     120                30  Increase Supply\n",
      "2   Product_C     200     180                20  Increase Supply\n",
      "3   Product_D     120     150               -30    Reduce Supply\n",
      "4   Product_E     180     160                20  Increase Supply\n",
      "5   Product_F     250     220                30  Increase Supply\n",
      "6   Product_G     130     110                20  Increase Supply\n",
      "7   Product_H     190     170                20  Increase Supply\n",
      "8   Product_I     140     130                10  Increase Supply\n",
      "9   Product_J     210     200                10  Increase Supply\n",
      "10  Product_K     180     160                20  Increase Supply\n",
      "11  Product_L     150     140                10  Increase Supply\n",
      "12  Product_M     220     200                20  Increase Supply\n",
      "13  Product_N     120     100                20  Increase Supply\n",
      "14  Product_O     160     150                10  Increase Supply\n",
      "15  Product_P     200     180                20  Increase Supply\n",
      "16  Product_Q     250     240                10  Increase Supply\n",
      "17  Product_R     170     160                10  Increase Supply\n",
      "18  Product_S     190     180                10  Increase Supply\n",
      "19  Product_T     210     200                10  Increase Supply\n"
     ]
    }
   ],
   "source": [
    "import pandas as pd\n",
    "\n",
    "# Load demand and supply data\n",
    "data = pd.read_csv('demand_supply_data.csv')\n",
    "\n",
    "# Calculate shortfall or excess\n",
    "data['Shortfall_Excess'] = data['Demand'] - data['Supply']\n",
    "\n",
    "# Suggest actions to balance demand and supply\n",
    "data['Action'] = 'No Action'\n",
    "data.loc[data['Shortfall_Excess'] > 0, 'Action'] = 'Increase Supply'\n",
    "data.loc[data['Shortfall_Excess'] < 0, 'Action'] = 'Reduce Supply'\n",
    "\n",
    "# Display the optimized data\n",
    "print(\"Optimized Demand and Supply:\")\n",
    "print(data)\n"
   ]
  },
  {
   "cell_type": "code",
   "execution_count": null,
   "id": "24e2c3e6",
   "metadata": {},
   "outputs": [],
   "source": []
  }
 ],
 "metadata": {
  "kernelspec": {
   "display_name": "Python 3 (ipykernel)",
   "language": "python",
   "name": "python3"
  },
  "language_info": {
   "codemirror_mode": {
    "name": "ipython",
    "version": 3
   },
   "file_extension": ".py",
   "mimetype": "text/x-python",
   "name": "python",
   "nbconvert_exporter": "python",
   "pygments_lexer": "ipython3",
   "version": "3.11.5"
  }
 },
 "nbformat": 4,
 "nbformat_minor": 5
}
